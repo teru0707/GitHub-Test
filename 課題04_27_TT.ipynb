{
  "nbformat": 4,
  "nbformat_minor": 0,
  "metadata": {
    "colab": {
      "provenance": [],
      "include_colab_link": true
    },
    "kernelspec": {
      "name": "python3",
      "display_name": "Python 3"
    },
    "language_info": {
      "name": "python"
    }
  },
  "cells": [
    {
      "cell_type": "markdown",
      "metadata": {
        "id": "view-in-github",
        "colab_type": "text"
      },
      "source": [
        "<a href=\"https://colab.research.google.com/github/teru0707/GitHub-Test/blob/main/%E8%AA%B2%E9%A1%8C04_27_TT.ipynb\" target=\"_parent\"><img src=\"https://colab.research.google.com/assets/colab-badge.svg\" alt=\"Open In Colab\"/></a>"
      ]
    },
    {
      "cell_type": "code",
      "source": [
        "!pip install ColabTurtle\n",
        "import random\n",
        "\n",
        "# じゃんけんの選択肢\n",
        "choices = ['グー', 'チョキ', 'パー']\n",
        "\n",
        "# プレイヤーのポイント\n",
        "points = 0\n",
        "\n",
        "# じゃんけんの結果を判断する関数\n",
        "def judge(player, computer):\n",
        "    if player == computer:\n",
        "        return 'あいこ'\n",
        "    elif (player == 'グー' and computer == 'チョキ') or \\\n",
        "         (player == 'チョキ' and computer == 'パー') or \\\n",
        "         (player == 'パー' and computer == 'グー'):\n",
        "        return '勝ち'\n",
        "    else:\n",
        "        return '負け'\n",
        "\n",
        "while points < 3:\n",
        "    print(f\"\\n現在のポイント: {points}\")\n",
        "    player_choice = input(\"グー、チョキ、パーの中から選んでください: \")\n",
        "\n",
        "    if player_choice not in choices:\n",
        "        print(\"無効な選択です。もう一度選んでください。\")\n",
        "        continue\n",
        "\n",
        "    computer_choice = random.choice(choices)\n",
        "    print(f\"コンピュータの選択: {computer_choice}\")\n",
        "\n",
        "    result = judge(player_choice, computer_choice)\n",
        "    print(f\"結果: {result}\")\n",
        "\n",
        "    if result == '勝ち':\n",
        "        points += 1\n",
        "        print(\"勝ったので、もう一度できます。1ポイント加算されます。\")\n",
        "    elif result == 'あいこ':\n",
        "        print(\"あいこです。ゲーム終了です。\")\n",
        "        break\n",
        "    else:\n",
        "        points -= 1\n",
        "        print(\"負けたので、もう一度できますが、1ポイント減ります。\")\n",
        "\n",
        "if points >= 3:\n",
        "    print(\"おめでとうございます！3ポイントに達しました。\")\n",
        "\n",
        "    # タートルグラフィックスで星を描く\n",
        "    %reset -f\n",
        "    import ColabTurtle.Turtle as t\n",
        "    t.initializeTurtle(initial_speed=5,initial_window_size=(400,400))\n",
        "\n",
        "    t.shape(shape='circle');t.bgcolor(0,0,0);t.color(0,255,0)\n",
        "    t.up(); t.goto(400/2,400/2);t.down()\n",
        "\n",
        "    d = 300\n",
        "    t.up()\n",
        "    t.forward(d/2);t.right(36/2)\n",
        "    t.down()\n",
        "    t.right(180-36);t.forward(d)\n",
        "    t.right(180-36);t.forward(d)\n",
        "    t.right(180-36);t.forward(d)\n",
        "    t.right(180-36);t.forward(d)\n",
        "    t.right(180-36);t.forward(d)\n",
        "else:\n",
        "    print(\"ゲームオーバーです。もう一度挑戦してください。\")"
      ],
      "metadata": {
        "id": "qFK7FGnESmrs",
        "colab": {
          "base_uri": "https://localhost:8080/",
          "height": 560
        },
        "outputId": "4d02044b-5f67-4d3b-fa2b-ba9e111336f1"
      },
      "execution_count": null,
      "outputs": [
        {
          "output_type": "stream",
          "name": "stdout",
          "text": [
            "Requirement already satisfied: ColabTurtle in /usr/local/lib/python3.10/dist-packages (2.1.0)\n",
            "\n",
            "現在のポイント: 0\n",
            "グー、チョキ、パーの中から選んでください: パー\n",
            "コンピュータの選択: グー\n",
            "結果: 勝ち\n",
            "勝ったので、もう一度できます。1ポイント加算されます。\n",
            "おめでとうございます！10ポイントに達しました。\n"
          ]
        },
        {
          "output_type": "display_data",
          "data": {
            "text/plain": [
              "<IPython.core.display.HTML object>"
            ],
            "text/html": [
              "\n",
              "      <svg width=\"400\" height=\"400\">\n",
              "        <rect width=\"100%\" height=\"100%\" fill=\"rgb(0,0,0)\"/>\n",
              "        <line x1=\"200.0\" y1=\"50.0\" x2=\"292.705\" y2=\"335.317\" stroke-linecap=\"round\" style=\"stroke:rgb(0,255,0);stroke-width:4\"/><line x1=\"292.705\" y1=\"335.317\" x2=\"50.0\" y2=\"158.981\" stroke-linecap=\"round\" style=\"stroke:rgb(0,255,0);stroke-width:4\"/><line x1=\"50.0\" y1=\"158.981\" x2=\"350.0\" y2=\"158.981\" stroke-linecap=\"round\" style=\"stroke:rgb(0,255,0);stroke-width:4\"/><line x1=\"350.0\" y1=\"158.981\" x2=\"107.295\" y2=\"335.317\" stroke-linecap=\"round\" style=\"stroke:rgb(0,255,0);stroke-width:4\"/><line x1=\"107.295\" y1=\"335.317\" x2=\"200.0\" y2=\"50.0\" stroke-linecap=\"round\" style=\"stroke:rgb(0,255,0);stroke-width:4\"/>\n",
              "        \n",
              "      <g visibility=visible transform=\"rotate(198.0,200.0,50.0) translate(200.0, 50.0)\">\n",
              "        <circle stroke=\"rgb(0,255,0)\" stroke-width=\"3\" fill=\"transparent\" r=\"12\" cx=\"0\" cy=\"0\"/>\n",
              "        <polygon points=\"0,19 3,16 -3,16\" style=\"fill:rgb(0,255,0);stroke:rgb(0,255,0);stroke-width:2\"/>\n",
              "      </g>\n",
              "    \n",
              "      </svg>\n",
              "    "
            ]
          },
          "metadata": {}
        }
      ]
    },
    {
      "cell_type": "markdown",
      "source": [
        "# **プログラムの名称**\n",
        "3ポイントで何が起こる!?楽しいじゃんけん大会\n",
        "## **概要**\n",
        "\n",
        "これはコンピュータとじゃんけんをし、勝つと1ポイント加算されもう一度、あいこだとじゃんけんが終了、負けると-1ポイント加算されもう一度プレイできるプログラムです。はじめにプレイやーのポイントを0からスタートしています。choiceでコンピュータとプレイヤーが選ぶことのできるじゃんけんの選択肢をリスト化しています。def jadgeでプレイヤーとコンピュータの選択を受け取り、結果を返します。この時\n",
        "・あいこ：両者の選択肢が同じ場合\n",
        "・勝ち：プレイヤーが勝つ選択肢の時\n",
        "・負け：プレイヤーが負ける選択肢の時\n",
        "と定義しています。while points < 3 でプレイヤーのポイントが3未満の間はゲームを続けるようにしています。breakであいこになった場合はゲームを強制的に終了させるようにしています。プレイヤーのポイントが3になったとき、google colabで一筆書きの星が書かれるようにしています。最後に、ゲームオーバーになるのはあいこになったときだけなので、あいこになると「ゲームオーバーです。もう一度挑戦してください。」と表示されるようにしました。\n",
        "\n",
        "## **操作方法**\n",
        "\n",
        "Ctlr+Enterでプログラムが実行され、しばらく待つとグー、チョキ、パーの中から選んで打ち込んでください。このとき、カタカナで答えないと無効な選択になります。\n",
        "\n",
        "## **制作者のコメント**\n",
        "\n",
        "私が注目してほしいのは、jadge関数をつかったところです。もともとじゃんけんのプログラムが書きたくて、じゃんけんのプログラミングを調べているとjadge関数というものがでてきたので使いました。反省点としてはグーグルコラボの図形を星ではなくもっと複雑なものにしたらよかったなと思いました。私はここまでしかできないんだなと思ったので夏休み明けにはもっと進化できるように勉強します。\n",
        "\n",
        "## **作成時間**\n",
        "\n",
        "作成時間：**約13時間**"
      ],
      "metadata": {
        "id": "EnMqIC7OaqQh"
      }
    }
  ]
}